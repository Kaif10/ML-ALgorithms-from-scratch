{
  "nbformat": 4,
  "nbformat_minor": 0,
  "metadata": {
    "colab": {
      "name": "KNN_from_scratch.ipynb",
      "provenance": [],
      "collapsed_sections": [],
      "authorship_tag": "ABX9TyODAzwPEuurFL2b1Q+MNidS",
      "include_colab_link": true
    },
    "kernelspec": {
      "name": "python3",
      "display_name": "Python 3"
    }
  },
  "cells": [
    {
      "cell_type": "markdown",
      "metadata": {
        "id": "view-in-github",
        "colab_type": "text"
      },
      "source": [
        "<a href=\"https://colab.research.google.com/github/Kaif10/ML-ALgorithms-from-scratch/blob/master/KNN_from_scratch.ipynb\" target=\"_parent\"><img src=\"https://colab.research.google.com/assets/colab-badge.svg\" alt=\"Open In Colab\"/></a>"
      ]
    },
    {
      "cell_type": "markdown",
      "metadata": {
        "id": "yXDT4ucBtFKV",
        "colab_type": "text"
      },
      "source": [
        "In this notebook I have coded the KNN algorithm from scratch and then compared my model's accurcay on the smae data set ith Scikit learn's implementation."
      ]
    },
    {
      "cell_type": "markdown",
      "metadata": {
        "id": "HE-U-C2ltEgJ",
        "colab_type": "text"
      },
      "source": [
        "."
      ]
    },
    {
      "cell_type": "code",
      "metadata": {
        "id": "xgS7_M6RVb7o",
        "colab_type": "code",
        "colab": {}
      },
      "source": [
        "import pandas as pd\n",
        "import numpy as np"
      ],
      "execution_count": 0,
      "outputs": []
    },
    {
      "cell_type": "code",
      "metadata": {
        "id": "Bum5xlFwVcMi",
        "colab_type": "code",
        "colab": {}
      },
      "source": [
        "data_2C = pd.read_csv(\"column_2C_weka.csv\")"
      ],
      "execution_count": 0,
      "outputs": []
    },
    {
      "cell_type": "code",
      "metadata": {
        "id": "VXzXGVuCZU6W",
        "colab_type": "code",
        "outputId": "bb3047de-25ec-4c0e-8d39-624b4dcfa37a",
        "colab": {
          "base_uri": "https://localhost:8080/",
          "height": 195
        }
      },
      "source": [
        "data_2C.head()"
      ],
      "execution_count": 0,
      "outputs": [
        {
          "output_type": "execute_result",
          "data": {
            "text/html": [
              "<div>\n",
              "<style scoped>\n",
              "    .dataframe tbody tr th:only-of-type {\n",
              "        vertical-align: middle;\n",
              "    }\n",
              "\n",
              "    .dataframe tbody tr th {\n",
              "        vertical-align: top;\n",
              "    }\n",
              "\n",
              "    .dataframe thead th {\n",
              "        text-align: right;\n",
              "    }\n",
              "</style>\n",
              "<table border=\"1\" class=\"dataframe\">\n",
              "  <thead>\n",
              "    <tr style=\"text-align: right;\">\n",
              "      <th></th>\n",
              "      <th>pelvic_incidence</th>\n",
              "      <th>pelvic_tilt numeric</th>\n",
              "      <th>lumbar_lordosis_angle</th>\n",
              "      <th>sacral_slope</th>\n",
              "      <th>pelvic_radius</th>\n",
              "      <th>degree_spondylolisthesis</th>\n",
              "      <th>class</th>\n",
              "    </tr>\n",
              "  </thead>\n",
              "  <tbody>\n",
              "    <tr>\n",
              "      <th>0</th>\n",
              "      <td>63.027818</td>\n",
              "      <td>22.552586</td>\n",
              "      <td>39.609117</td>\n",
              "      <td>40.475232</td>\n",
              "      <td>98.672917</td>\n",
              "      <td>-0.254400</td>\n",
              "      <td>Abnormal</td>\n",
              "    </tr>\n",
              "    <tr>\n",
              "      <th>1</th>\n",
              "      <td>39.056951</td>\n",
              "      <td>10.060991</td>\n",
              "      <td>25.015378</td>\n",
              "      <td>28.995960</td>\n",
              "      <td>114.405425</td>\n",
              "      <td>4.564259</td>\n",
              "      <td>Abnormal</td>\n",
              "    </tr>\n",
              "    <tr>\n",
              "      <th>2</th>\n",
              "      <td>68.832021</td>\n",
              "      <td>22.218482</td>\n",
              "      <td>50.092194</td>\n",
              "      <td>46.613539</td>\n",
              "      <td>105.985135</td>\n",
              "      <td>-3.530317</td>\n",
              "      <td>Abnormal</td>\n",
              "    </tr>\n",
              "    <tr>\n",
              "      <th>3</th>\n",
              "      <td>69.297008</td>\n",
              "      <td>24.652878</td>\n",
              "      <td>44.311238</td>\n",
              "      <td>44.644130</td>\n",
              "      <td>101.868495</td>\n",
              "      <td>11.211523</td>\n",
              "      <td>Abnormal</td>\n",
              "    </tr>\n",
              "    <tr>\n",
              "      <th>4</th>\n",
              "      <td>49.712859</td>\n",
              "      <td>9.652075</td>\n",
              "      <td>28.317406</td>\n",
              "      <td>40.060784</td>\n",
              "      <td>108.168725</td>\n",
              "      <td>7.918501</td>\n",
              "      <td>Abnormal</td>\n",
              "    </tr>\n",
              "  </tbody>\n",
              "</table>\n",
              "</div>"
            ],
            "text/plain": [
              "   pelvic_incidence  pelvic_tilt numeric  ...  degree_spondylolisthesis     class\n",
              "0         63.027818            22.552586  ...                 -0.254400  Abnormal\n",
              "1         39.056951            10.060991  ...                  4.564259  Abnormal\n",
              "2         68.832021            22.218482  ...                 -3.530317  Abnormal\n",
              "3         69.297008            24.652878  ...                 11.211523  Abnormal\n",
              "4         49.712859             9.652075  ...                  7.918501  Abnormal\n",
              "\n",
              "[5 rows x 7 columns]"
            ]
          },
          "metadata": {
            "tags": []
          },
          "execution_count": 3
        }
      ]
    },
    {
      "cell_type": "code",
      "metadata": {
        "id": "d1uZ7d7uZ6tC",
        "colab_type": "code",
        "outputId": "027ccf28-6de4-4e8d-96e0-ec2b70ae3680",
        "colab": {
          "base_uri": "https://localhost:8080/",
          "height": 225
        }
      },
      "source": [
        "#analyse our data\n",
        "data_2C.describe().transpose()"
      ],
      "execution_count": 0,
      "outputs": [
        {
          "output_type": "execute_result",
          "data": {
            "text/html": [
              "<div>\n",
              "<style scoped>\n",
              "    .dataframe tbody tr th:only-of-type {\n",
              "        vertical-align: middle;\n",
              "    }\n",
              "\n",
              "    .dataframe tbody tr th {\n",
              "        vertical-align: top;\n",
              "    }\n",
              "\n",
              "    .dataframe thead th {\n",
              "        text-align: right;\n",
              "    }\n",
              "</style>\n",
              "<table border=\"1\" class=\"dataframe\">\n",
              "  <thead>\n",
              "    <tr style=\"text-align: right;\">\n",
              "      <th></th>\n",
              "      <th>count</th>\n",
              "      <th>mean</th>\n",
              "      <th>std</th>\n",
              "      <th>min</th>\n",
              "      <th>25%</th>\n",
              "      <th>50%</th>\n",
              "      <th>75%</th>\n",
              "      <th>max</th>\n",
              "    </tr>\n",
              "  </thead>\n",
              "  <tbody>\n",
              "    <tr>\n",
              "      <th>pelvic_incidence</th>\n",
              "      <td>310.0</td>\n",
              "      <td>60.496653</td>\n",
              "      <td>17.236520</td>\n",
              "      <td>26.147921</td>\n",
              "      <td>46.430294</td>\n",
              "      <td>58.691038</td>\n",
              "      <td>72.877696</td>\n",
              "      <td>129.834041</td>\n",
              "    </tr>\n",
              "    <tr>\n",
              "      <th>pelvic_tilt numeric</th>\n",
              "      <td>310.0</td>\n",
              "      <td>17.542822</td>\n",
              "      <td>10.008330</td>\n",
              "      <td>-6.554948</td>\n",
              "      <td>10.667069</td>\n",
              "      <td>16.357689</td>\n",
              "      <td>22.120395</td>\n",
              "      <td>49.431864</td>\n",
              "    </tr>\n",
              "    <tr>\n",
              "      <th>lumbar_lordosis_angle</th>\n",
              "      <td>310.0</td>\n",
              "      <td>51.930930</td>\n",
              "      <td>18.554064</td>\n",
              "      <td>14.000000</td>\n",
              "      <td>37.000000</td>\n",
              "      <td>49.562398</td>\n",
              "      <td>63.000000</td>\n",
              "      <td>125.742385</td>\n",
              "    </tr>\n",
              "    <tr>\n",
              "      <th>sacral_slope</th>\n",
              "      <td>310.0</td>\n",
              "      <td>42.953831</td>\n",
              "      <td>13.423102</td>\n",
              "      <td>13.366931</td>\n",
              "      <td>33.347122</td>\n",
              "      <td>42.404912</td>\n",
              "      <td>52.695888</td>\n",
              "      <td>121.429566</td>\n",
              "    </tr>\n",
              "    <tr>\n",
              "      <th>pelvic_radius</th>\n",
              "      <td>310.0</td>\n",
              "      <td>117.920655</td>\n",
              "      <td>13.317377</td>\n",
              "      <td>70.082575</td>\n",
              "      <td>110.709196</td>\n",
              "      <td>118.268178</td>\n",
              "      <td>125.467674</td>\n",
              "      <td>163.071041</td>\n",
              "    </tr>\n",
              "    <tr>\n",
              "      <th>degree_spondylolisthesis</th>\n",
              "      <td>310.0</td>\n",
              "      <td>26.296694</td>\n",
              "      <td>37.559027</td>\n",
              "      <td>-11.058179</td>\n",
              "      <td>1.603727</td>\n",
              "      <td>11.767934</td>\n",
              "      <td>41.287352</td>\n",
              "      <td>418.543082</td>\n",
              "    </tr>\n",
              "  </tbody>\n",
              "</table>\n",
              "</div>"
            ],
            "text/plain": [
              "                          count        mean  ...         75%         max\n",
              "pelvic_incidence          310.0   60.496653  ...   72.877696  129.834041\n",
              "pelvic_tilt numeric       310.0   17.542822  ...   22.120395   49.431864\n",
              "lumbar_lordosis_angle     310.0   51.930930  ...   63.000000  125.742385\n",
              "sacral_slope              310.0   42.953831  ...   52.695888  121.429566\n",
              "pelvic_radius             310.0  117.920655  ...  125.467674  163.071041\n",
              "degree_spondylolisthesis  310.0   26.296694  ...   41.287352  418.543082\n",
              "\n",
              "[6 rows x 8 columns]"
            ]
          },
          "metadata": {
            "tags": []
          },
          "execution_count": 4
        }
      ]
    },
    {
      "cell_type": "code",
      "metadata": {
        "id": "xhRQ2iKQZ66g",
        "colab_type": "code",
        "outputId": "75620e9e-ce73-47ce-ba33-71b3afaa6d16",
        "colab": {
          "base_uri": "https://localhost:8080/",
          "height": 151
        }
      },
      "source": [
        "data_2C.dtypes"
      ],
      "execution_count": 0,
      "outputs": [
        {
          "output_type": "execute_result",
          "data": {
            "text/plain": [
              "pelvic_incidence            float64\n",
              "pelvic_tilt numeric         float64\n",
              "lumbar_lordosis_angle       float64\n",
              "sacral_slope                float64\n",
              "pelvic_radius               float64\n",
              "degree_spondylolisthesis    float64\n",
              "class                        object\n",
              "dtype: object"
            ]
          },
          "metadata": {
            "tags": []
          },
          "execution_count": 5
        }
      ]
    },
    {
      "cell_type": "code",
      "metadata": {
        "id": "rhi9etBwZ7Gz",
        "colab_type": "code",
        "colab": {}
      },
      "source": [
        "colnames_numeric = data_2C.columns[0:6]"
      ],
      "execution_count": 0,
      "outputs": []
    },
    {
      "cell_type": "markdown",
      "metadata": {
        "id": "ZpVT1u3ht3Qo",
        "colab_type": "text"
      },
      "source": [
        "Scaling our features column."
      ]
    },
    {
      "cell_type": "code",
      "metadata": {
        "id": "fZqcowSYaxgL",
        "colab_type": "code",
        "colab": {}
      },
      "source": [
        "#Scaling a data in always a good idea while using KNN\n",
        "from sklearn.preprocessing import MinMaxScaler\n",
        "scaler = MinMaxScaler()\n",
        "data_2C[colnames_numeric] = scaler.fit_transform(data_2C[colnames_numeric])"
      ],
      "execution_count": 0,
      "outputs": []
    },
    {
      "cell_type": "code",
      "metadata": {
        "id": "UGu_jZeVaxdn",
        "colab_type": "code",
        "outputId": "78e4e0af-de7a-489d-c033-64f934afad2a",
        "colab": {
          "base_uri": "https://localhost:8080/",
          "height": 195
        }
      },
      "source": [
        "data_2C.head()"
      ],
      "execution_count": 0,
      "outputs": [
        {
          "output_type": "execute_result",
          "data": {
            "text/html": [
              "<div>\n",
              "<style scoped>\n",
              "    .dataframe tbody tr th:only-of-type {\n",
              "        vertical-align: middle;\n",
              "    }\n",
              "\n",
              "    .dataframe tbody tr th {\n",
              "        vertical-align: top;\n",
              "    }\n",
              "\n",
              "    .dataframe thead th {\n",
              "        text-align: right;\n",
              "    }\n",
              "</style>\n",
              "<table border=\"1\" class=\"dataframe\">\n",
              "  <thead>\n",
              "    <tr style=\"text-align: right;\">\n",
              "      <th></th>\n",
              "      <th>pelvic_incidence</th>\n",
              "      <th>pelvic_tilt numeric</th>\n",
              "      <th>lumbar_lordosis_angle</th>\n",
              "      <th>sacral_slope</th>\n",
              "      <th>pelvic_radius</th>\n",
              "      <th>degree_spondylolisthesis</th>\n",
              "      <th>class</th>\n",
              "    </tr>\n",
              "  </thead>\n",
              "  <tbody>\n",
              "    <tr>\n",
              "      <th>0</th>\n",
              "      <td>0.355688</td>\n",
              "      <td>0.519900</td>\n",
              "      <td>0.229180</td>\n",
              "      <td>0.250857</td>\n",
              "      <td>0.307461</td>\n",
              "      <td>0.025148</td>\n",
              "      <td>Abnormal</td>\n",
              "    </tr>\n",
              "    <tr>\n",
              "      <th>1</th>\n",
              "      <td>0.124501</td>\n",
              "      <td>0.296783</td>\n",
              "      <td>0.098578</td>\n",
              "      <td>0.144629</td>\n",
              "      <td>0.476649</td>\n",
              "      <td>0.036365</td>\n",
              "      <td>Abnormal</td>\n",
              "    </tr>\n",
              "    <tr>\n",
              "      <th>2</th>\n",
              "      <td>0.411666</td>\n",
              "      <td>0.513932</td>\n",
              "      <td>0.322995</td>\n",
              "      <td>0.307661</td>\n",
              "      <td>0.386097</td>\n",
              "      <td>0.017523</td>\n",
              "      <td>Abnormal</td>\n",
              "    </tr>\n",
              "    <tr>\n",
              "      <th>3</th>\n",
              "      <td>0.416151</td>\n",
              "      <td>0.557414</td>\n",
              "      <td>0.271260</td>\n",
              "      <td>0.289436</td>\n",
              "      <td>0.341826</td>\n",
              "      <td>0.051838</td>\n",
              "      <td>Abnormal</td>\n",
              "    </tr>\n",
              "    <tr>\n",
              "      <th>4</th>\n",
              "      <td>0.227272</td>\n",
              "      <td>0.289479</td>\n",
              "      <td>0.128129</td>\n",
              "      <td>0.247022</td>\n",
              "      <td>0.409579</td>\n",
              "      <td>0.044173</td>\n",
              "      <td>Abnormal</td>\n",
              "    </tr>\n",
              "  </tbody>\n",
              "</table>\n",
              "</div>"
            ],
            "text/plain": [
              "   pelvic_incidence  pelvic_tilt numeric  ...  degree_spondylolisthesis     class\n",
              "0          0.355688             0.519900  ...                  0.025148  Abnormal\n",
              "1          0.124501             0.296783  ...                  0.036365  Abnormal\n",
              "2          0.411666             0.513932  ...                  0.017523  Abnormal\n",
              "3          0.416151             0.557414  ...                  0.051838  Abnormal\n",
              "4          0.227272             0.289479  ...                  0.044173  Abnormal\n",
              "\n",
              "[5 rows x 7 columns]"
            ]
          },
          "metadata": {
            "tags": []
          },
          "execution_count": 8
        }
      ]
    },
    {
      "cell_type": "code",
      "metadata": {
        "id": "S1aSRmmxaxa_",
        "colab_type": "code",
        "colab": {}
      },
      "source": [
        "#Convert dataframe to list\n",
        "df = data_2C.values.tolist()"
      ],
      "execution_count": 0,
      "outputs": []
    },
    {
      "cell_type": "code",
      "metadata": {
        "id": "9rQcvoOEaxYK",
        "colab_type": "code",
        "colab": {}
      },
      "source": [
        "#Breaking the data into training and test set\n",
        "import random\n",
        "def train_test_split(data, split, trainingSet = [], testSet = []):\n",
        "    for x in range(len(data)):\n",
        "        if random.random() < split:\n",
        "            trainingSet.append(data[x])\n",
        "        else:\n",
        "            testSet.append(data[x])"
      ],
      "execution_count": 0,
      "outputs": []
    },
    {
      "cell_type": "code",
      "metadata": {
        "id": "IcJq5PlBbBsl",
        "colab_type": "code",
        "colab": {}
      },
      "source": [
        "#split \n",
        "trainingSet = []\n",
        "testSet = []\n",
        "split = 0.66\n",
        "train_test_split(df, split, trainingSet, testSet)"
      ],
      "execution_count": 0,
      "outputs": []
    },
    {
      "cell_type": "code",
      "metadata": {
        "id": "UEsGajBFbBpL",
        "colab_type": "code",
        "outputId": "8898d7d6-64f9-4394-8244-2f7d1194f0df",
        "colab": {
          "base_uri": "https://localhost:8080/",
          "height": 34
        }
      },
      "source": [
        "print(len(trainingSet))\n",
        "print(len(testSet))"
      ],
      "execution_count": 0,
      "outputs": [
        {
          "output_type": "execute_result",
          "data": {
            "text/plain": [
              "100"
            ]
          },
          "metadata": {
            "tags": []
          },
          "execution_count": 12
        }
      ]
    },
    {
      "cell_type": "code",
      "metadata": {
        "id": "wVu2BMO0bBmZ",
        "colab_type": "code",
        "colab": {}
      },
      "source": [
        "#Define Euclidean distances\n",
        "import math\n",
        "def Euclideandist(x,xi, length):\n",
        "    d = 0.0\n",
        "    for i in range(length):\n",
        "        d += pow(float(x[i])- float(xi[i]),2)\n",
        "    return math.sqrt(d)"
      ],
      "execution_count": 0,
      "outputs": []
    },
    {
      "cell_type": "code",
      "metadata": {
        "id": "2E_TCgJibOWc",
        "colab_type": "code",
        "colab": {}
      },
      "source": [
        "#Getting the K neighbours having the closest Euclidean distance to the test instance\n",
        "import operator\n",
        "def getNeighbors(trainingSet, testInstance, k):\n",
        "    distances = []\n",
        "    length = len(testInstance)-1\n",
        "    for x in range(len(trainingSet)):\n",
        "        dist = Euclideandist(testInstance, trainingSet[x], length)\n",
        "        distances.append((trainingSet[x], dist))\n",
        "    distances.sort(key=operator.itemgetter(1))\n",
        "    neighbors = []\n",
        "    for x in range(k):\n",
        "        neighbors.append(distances[x][0])\n",
        "    return neighbors"
      ],
      "execution_count": 0,
      "outputs": []
    },
    {
      "cell_type": "code",
      "metadata": {
        "id": "UiJJgrW_bOUL",
        "colab_type": "code",
        "colab": {}
      },
      "source": [
        "#After sorting the neighbours based on their respective classes, max voting to give the final class of the test instance\n",
        "import operator\n",
        "def getResponse(neighbors):\n",
        "\tclassVotes = {}\n",
        "\tfor x in range(len(neighbors)):\n",
        "\t\tresponse = neighbors[x][-1]\n",
        "\t\tif response in classVotes:\n",
        "\t\t\tclassVotes[response] += 1\n",
        "\t\telse:\n",
        "\t\t\tclassVotes[response] = 1\n",
        "\tsortedVotes = sorted(classVotes.items(), key=operator.itemgetter(1), reverse=True)#Sorting it based on votes\n",
        "\treturn sortedVotes[0][0] #Please note we need the class for the top voted class, hence [0][0]#"
      ],
      "execution_count": 0,
      "outputs": []
    },
    {
      "cell_type": "code",
      "metadata": {
        "id": "38qMtoAZbOTP",
        "colab_type": "code",
        "colab": {}
      },
      "source": [
        "#Getting the accuracy\n",
        "def getAccuracy(testSet, predictions):\n",
        "\tcorrect = 0\n",
        "\tfor x in range(len(testSet)):\n",
        "\t\tif testSet[x][-1] == predictions[x]:\n",
        "\t\t\tcorrect += 1\n",
        "\treturn (correct/float(len(testSet))) * 100.0"
      ],
      "execution_count": 0,
      "outputs": []
    },
    {
      "cell_type": "code",
      "metadata": {
        "id": "swqEjSmGbOR1",
        "colab_type": "code",
        "outputId": "e0beb0b8-c33c-4b4c-b075-ac4623638cf7",
        "colab": {
          "base_uri": "https://localhost:8080/",
          "height": 1000
        }
      },
      "source": [
        "# generate predictions\n",
        "predictions=[]\n",
        "k = 3\n",
        "for x in range(len(testSet)):\n",
        "    neighbors = getNeighbors(trainingSet, testSet[x], k)\n",
        "    result = getResponse(neighbors)\n",
        "    predictions.append(result)\n",
        "    print('> predicted=' + repr(result) + ', actual=' + repr(testSet[x][-1]))"
      ],
      "execution_count": 0,
      "outputs": [
        {
          "output_type": "stream",
          "text": [
            "> predicted='Abnormal', actual='Abnormal'\n",
            "> predicted='Abnormal', actual='Abnormal'\n",
            "> predicted='Normal', actual='Abnormal'\n",
            "> predicted='Abnormal', actual='Abnormal'\n",
            "> predicted='Abnormal', actual='Abnormal'\n",
            "> predicted='Abnormal', actual='Abnormal'\n",
            "> predicted='Abnormal', actual='Abnormal'\n",
            "> predicted='Normal', actual='Abnormal'\n",
            "> predicted='Abnormal', actual='Abnormal'\n",
            "> predicted='Normal', actual='Abnormal'\n",
            "> predicted='Abnormal', actual='Abnormal'\n",
            "> predicted='Abnormal', actual='Abnormal'\n",
            "> predicted='Abnormal', actual='Abnormal'\n",
            "> predicted='Normal', actual='Abnormal'\n",
            "> predicted='Abnormal', actual='Abnormal'\n",
            "> predicted='Abnormal', actual='Abnormal'\n",
            "> predicted='Abnormal', actual='Abnormal'\n",
            "> predicted='Abnormal', actual='Abnormal'\n",
            "> predicted='Normal', actual='Abnormal'\n",
            "> predicted='Normal', actual='Abnormal'\n",
            "> predicted='Abnormal', actual='Abnormal'\n",
            "> predicted='Normal', actual='Abnormal'\n",
            "> predicted='Normal', actual='Abnormal'\n",
            "> predicted='Abnormal', actual='Abnormal'\n",
            "> predicted='Abnormal', actual='Abnormal'\n",
            "> predicted='Abnormal', actual='Abnormal'\n",
            "> predicted='Abnormal', actual='Abnormal'\n",
            "> predicted='Normal', actual='Abnormal'\n",
            "> predicted='Abnormal', actual='Abnormal'\n",
            "> predicted='Abnormal', actual='Abnormal'\n",
            "> predicted='Abnormal', actual='Abnormal'\n",
            "> predicted='Normal', actual='Abnormal'\n",
            "> predicted='Abnormal', actual='Abnormal'\n",
            "> predicted='Abnormal', actual='Abnormal'\n",
            "> predicted='Abnormal', actual='Abnormal'\n",
            "> predicted='Normal', actual='Abnormal'\n",
            "> predicted='Normal', actual='Abnormal'\n",
            "> predicted='Abnormal', actual='Abnormal'\n",
            "> predicted='Abnormal', actual='Abnormal'\n",
            "> predicted='Abnormal', actual='Abnormal'\n",
            "> predicted='Abnormal', actual='Abnormal'\n",
            "> predicted='Abnormal', actual='Abnormal'\n",
            "> predicted='Abnormal', actual='Abnormal'\n",
            "> predicted='Abnormal', actual='Abnormal'\n",
            "> predicted='Abnormal', actual='Abnormal'\n",
            "> predicted='Abnormal', actual='Abnormal'\n",
            "> predicted='Abnormal', actual='Abnormal'\n",
            "> predicted='Abnormal', actual='Abnormal'\n",
            "> predicted='Abnormal', actual='Abnormal'\n",
            "> predicted='Abnormal', actual='Abnormal'\n",
            "> predicted='Abnormal', actual='Abnormal'\n",
            "> predicted='Abnormal', actual='Abnormal'\n",
            "> predicted='Normal', actual='Abnormal'\n",
            "> predicted='Abnormal', actual='Abnormal'\n",
            "> predicted='Abnormal', actual='Abnormal'\n",
            "> predicted='Abnormal', actual='Abnormal'\n",
            "> predicted='Abnormal', actual='Abnormal'\n",
            "> predicted='Abnormal', actual='Abnormal'\n",
            "> predicted='Abnormal', actual='Abnormal'\n",
            "> predicted='Abnormal', actual='Abnormal'\n",
            "> predicted='Abnormal', actual='Abnormal'\n",
            "> predicted='Abnormal', actual='Abnormal'\n",
            "> predicted='Abnormal', actual='Abnormal'\n",
            "> predicted='Abnormal', actual='Abnormal'\n",
            "> predicted='Abnormal', actual='Abnormal'\n",
            "> predicted='Abnormal', actual='Abnormal'\n",
            "> predicted='Abnormal', actual='Abnormal'\n",
            "> predicted='Abnormal', actual='Abnormal'\n",
            "> predicted='Abnormal', actual='Abnormal'\n",
            "> predicted='Abnormal', actual='Abnormal'\n",
            "> predicted='Normal', actual='Normal'\n",
            "> predicted='Normal', actual='Normal'\n",
            "> predicted='Abnormal', actual='Normal'\n",
            "> predicted='Normal', actual='Normal'\n",
            "> predicted='Normal', actual='Normal'\n",
            "> predicted='Normal', actual='Normal'\n",
            "> predicted='Normal', actual='Normal'\n",
            "> predicted='Normal', actual='Normal'\n",
            "> predicted='Normal', actual='Normal'\n",
            "> predicted='Normal', actual='Normal'\n",
            "> predicted='Abnormal', actual='Normal'\n",
            "> predicted='Abnormal', actual='Normal'\n",
            "> predicted='Normal', actual='Normal'\n",
            "> predicted='Abnormal', actual='Normal'\n",
            "> predicted='Abnormal', actual='Normal'\n",
            "> predicted='Normal', actual='Normal'\n",
            "> predicted='Normal', actual='Normal'\n",
            "> predicted='Normal', actual='Normal'\n",
            "> predicted='Normal', actual='Normal'\n",
            "> predicted='Normal', actual='Normal'\n",
            "> predicted='Normal', actual='Normal'\n",
            "> predicted='Normal', actual='Normal'\n",
            "> predicted='Normal', actual='Normal'\n",
            "> predicted='Normal', actual='Normal'\n",
            "> predicted='Normal', actual='Normal'\n",
            "> predicted='Abnormal', actual='Normal'\n",
            "> predicted='Abnormal', actual='Normal'\n",
            "> predicted='Normal', actual='Normal'\n",
            "> predicted='Normal', actual='Normal'\n",
            "> predicted='Normal', actual='Normal'\n"
          ],
          "name": "stdout"
        }
      ]
    },
    {
      "cell_type": "code",
      "metadata": {
        "id": "f0jGsBH8bOPs",
        "colab_type": "code",
        "outputId": "2c77040f-fe70-4619-8faf-dc8d9f46f40f",
        "colab": {
          "base_uri": "https://localhost:8080/",
          "height": 34
        }
      },
      "source": [
        "accuracy = getAccuracy(testSet, predictions)\n",
        "print('Accuracy: ' + repr(accuracy) + '%')"
      ],
      "execution_count": 0,
      "outputs": [
        {
          "output_type": "stream",
          "text": [
            "Accuracy: 80.0%\n"
          ],
          "name": "stdout"
        }
      ]
    },
    {
      "cell_type": "markdown",
      "metadata": {
        "id": "og92aATzukDF",
        "colab_type": "text"
      },
      "source": [
        "."
      ]
    },
    {
      "cell_type": "markdown",
      "metadata": {
        "id": "u84RtTlkuj9a",
        "colab_type": "text"
      },
      "source": [
        "Scikit learn's implementaion"
      ]
    },
    {
      "cell_type": "code",
      "metadata": {
        "id": "touwHAYMbOMs",
        "colab_type": "code",
        "colab": {}
      },
      "source": [
        "#Implementing Naive Bayes using scikitlearn\n",
        "trainingSet2 = pd.DataFrame(np.array(trainingSet).reshape(len(trainingSet),7), columns = data_2C.columns)\n",
        "testSet2 = pd.DataFrame(np.array(testSet).reshape(len(testSet),7), columns = data_2C.columns)"
      ],
      "execution_count": 0,
      "outputs": []
    },
    {
      "cell_type": "code",
      "metadata": {
        "id": "EUASLXlUbOJ5",
        "colab_type": "code",
        "outputId": "82f429f6-41a1-474b-c89c-42745b573730",
        "colab": {
          "base_uri": "https://localhost:8080/",
          "height": 195
        }
      },
      "source": [
        "trainingSet2.head()"
      ],
      "execution_count": 0,
      "outputs": [
        {
          "output_type": "execute_result",
          "data": {
            "text/html": [
              "<div>\n",
              "<style scoped>\n",
              "    .dataframe tbody tr th:only-of-type {\n",
              "        vertical-align: middle;\n",
              "    }\n",
              "\n",
              "    .dataframe tbody tr th {\n",
              "        vertical-align: top;\n",
              "    }\n",
              "\n",
              "    .dataframe thead th {\n",
              "        text-align: right;\n",
              "    }\n",
              "</style>\n",
              "<table border=\"1\" class=\"dataframe\">\n",
              "  <thead>\n",
              "    <tr style=\"text-align: right;\">\n",
              "      <th></th>\n",
              "      <th>pelvic_incidence</th>\n",
              "      <th>pelvic_tilt numeric</th>\n",
              "      <th>lumbar_lordosis_angle</th>\n",
              "      <th>sacral_slope</th>\n",
              "      <th>pelvic_radius</th>\n",
              "      <th>degree_spondylolisthesis</th>\n",
              "      <th>class</th>\n",
              "    </tr>\n",
              "  </thead>\n",
              "  <tbody>\n",
              "    <tr>\n",
              "      <th>0</th>\n",
              "      <td>0.3556878816384217</td>\n",
              "      <td>0.5198998354211468</td>\n",
              "      <td>0.22917997405738216</td>\n",
              "      <td>0.25085730007495866</td>\n",
              "      <td>0.30746116406185287</td>\n",
              "      <td>0.025148386796833937</td>\n",
              "      <td>Abnormal</td>\n",
              "    </tr>\n",
              "    <tr>\n",
              "      <th>1</th>\n",
              "      <td>0.1245010390093278</td>\n",
              "      <td>0.29678310371966715</td>\n",
              "      <td>0.09857833418098988</td>\n",
              "      <td>0.1446293515280553</td>\n",
              "      <td>0.47664890731280163</td>\n",
              "      <td>0.03636497080423512</td>\n",
              "      <td>Abnormal</td>\n",
              "    </tr>\n",
              "    <tr>\n",
              "      <th>2</th>\n",
              "      <td>0.4161510431394515</td>\n",
              "      <td>0.5574138832291958</td>\n",
              "      <td>0.27125998782261546</td>\n",
              "      <td>0.2894358396770871</td>\n",
              "      <td>0.34182648376044333</td>\n",
              "      <td>0.051838074359006905</td>\n",
              "      <td>Abnormal</td>\n",
              "    </tr>\n",
              "    <tr>\n",
              "      <th>3</th>\n",
              "      <td>0.2631500431605651</td>\n",
              "      <td>0.4004386691677185</td>\n",
              "      <td>0.20731554786791268</td>\n",
              "      <td>0.2239595707840731</td>\n",
              "      <td>0.542916243348394</td>\n",
              "      <td>0.03968035226861981</td>\n",
              "      <td>Abnormal</td>\n",
              "    </tr>\n",
              "    <tr>\n",
              "      <th>4</th>\n",
              "      <td>0.18535588331531994</td>\n",
              "      <td>0.3091899534016523</td>\n",
              "      <td>0.1345805254891395</td>\n",
              "      <td>0.19659164797951825</td>\n",
              "      <td>0.5074553313169391</td>\n",
              "      <td>0.0008899131937454424</td>\n",
              "      <td>Abnormal</td>\n",
              "    </tr>\n",
              "  </tbody>\n",
              "</table>\n",
              "</div>"
            ],
            "text/plain": [
              "      pelvic_incidence  pelvic_tilt numeric  ... degree_spondylolisthesis     class\n",
              "0   0.3556878816384217   0.5198998354211468  ...     0.025148386796833937  Abnormal\n",
              "1   0.1245010390093278  0.29678310371966715  ...      0.03636497080423512  Abnormal\n",
              "2   0.4161510431394515   0.5574138832291958  ...     0.051838074359006905  Abnormal\n",
              "3   0.2631500431605651   0.4004386691677185  ...      0.03968035226861981  Abnormal\n",
              "4  0.18535588331531994   0.3091899534016523  ...    0.0008899131937454424  Abnormal\n",
              "\n",
              "[5 rows x 7 columns]"
            ]
          },
          "metadata": {
            "tags": []
          },
          "execution_count": 21
        }
      ]
    },
    {
      "cell_type": "code",
      "metadata": {
        "id": "pf3R-WZyIQ_6",
        "colab_type": "code",
        "outputId": "d349403e-65a4-450b-e16a-d5710b5e85b9",
        "colab": {
          "base_uri": "https://localhost:8080/",
          "height": 151
        }
      },
      "source": [
        "trainingSet2.dtypes"
      ],
      "execution_count": 0,
      "outputs": [
        {
          "output_type": "execute_result",
          "data": {
            "text/plain": [
              "pelvic_incidence            object\n",
              "pelvic_tilt numeric         object\n",
              "lumbar_lordosis_angle       object\n",
              "sacral_slope                object\n",
              "pelvic_radius               object\n",
              "degree_spondylolisthesis    object\n",
              "class                       object\n",
              "dtype: object"
            ]
          },
          "metadata": {
            "tags": []
          },
          "execution_count": 22
        }
      ]
    },
    {
      "cell_type": "code",
      "metadata": {
        "id": "qvTXgkErIRIA",
        "colab_type": "code",
        "colab": {}
      },
      "source": [
        "trainingSet2[colnames_numeric] = trainingSet2[colnames_numeric].apply(pd.to_numeric, errors = 'coerce', axis = 0)"
      ],
      "execution_count": 0,
      "outputs": []
    },
    {
      "cell_type": "code",
      "metadata": {
        "id": "clcZXrnjIQ7P",
        "colab_type": "code",
        "outputId": "93446e22-651e-4d46-fadc-748bbea4e053",
        "colab": {
          "base_uri": "https://localhost:8080/",
          "height": 151
        }
      },
      "source": [
        "trainingSet2.dtypes"
      ],
      "execution_count": 0,
      "outputs": [
        {
          "output_type": "execute_result",
          "data": {
            "text/plain": [
              "pelvic_incidence            float64\n",
              "pelvic_tilt numeric         float64\n",
              "lumbar_lordosis_angle       float64\n",
              "sacral_slope                float64\n",
              "pelvic_radius               float64\n",
              "degree_spondylolisthesis    float64\n",
              "class                        object\n",
              "dtype: object"
            ]
          },
          "metadata": {
            "tags": []
          },
          "execution_count": 24
        }
      ]
    },
    {
      "cell_type": "code",
      "metadata": {
        "id": "96ZuW0JCIZYC",
        "colab_type": "code",
        "outputId": "e6ab497e-ceb0-407f-b1e0-503e2f727b87",
        "colab": {
          "base_uri": "https://localhost:8080/",
          "height": 151
        }
      },
      "source": [
        "testSet2[colnames_numeric] = testSet2[colnames_numeric].apply(pd.to_numeric, errors = 'coerce', axis = 0)\n",
        "testSet2.dtypes"
      ],
      "execution_count": 0,
      "outputs": [
        {
          "output_type": "execute_result",
          "data": {
            "text/plain": [
              "pelvic_incidence            float64\n",
              "pelvic_tilt numeric         float64\n",
              "lumbar_lordosis_angle       float64\n",
              "sacral_slope                float64\n",
              "pelvic_radius               float64\n",
              "degree_spondylolisthesis    float64\n",
              "class                        object\n",
              "dtype: object"
            ]
          },
          "metadata": {
            "tags": []
          },
          "execution_count": 25
        }
      ]
    },
    {
      "cell_type": "code",
      "metadata": {
        "id": "lo1gOAElIfcU",
        "colab_type": "code",
        "colab": {}
      },
      "source": [
        "#here we don't need  to convert dataframe to list for feeding data into scikit learn's model\n",
        "from sklearn.neighbors import KNeighborsClassifier\n",
        "knn = KNeighborsClassifier(n_neighbors = 3)\n",
        "x_train,y_train = trainingSet2.loc[:,trainingSet2.columns != 'class'], trainingSet2.loc[:,'class']\n",
        "x_test,y_test = testSet2.loc[:,testSet2.columns != 'class'], testSet2.loc[:,'class']\n"
      ],
      "execution_count": 0,
      "outputs": []
    },
    {
      "cell_type": "code",
      "metadata": {
        "id": "Bod3TWPUIi_F",
        "colab_type": "code",
        "outputId": "089cc864-fc54-4eca-abba-d89192692ba5",
        "colab": {
          "base_uri": "https://localhost:8080/",
          "height": 286
        }
      },
      "source": [
        "knn.fit(x_train,y_train)\n",
        "prediction = knn.predict(x_test)\n",
        "print('Prediction: {}'.format(prediction))\n",
        "print('With KNN (K=3) accuracy is: ',knn.score(x_test,y_test)) # accuracy"
      ],
      "execution_count": 0,
      "outputs": [
        {
          "output_type": "stream",
          "text": [
            "Prediction: ['Abnormal' 'Abnormal' 'Normal' 'Abnormal' 'Abnormal' 'Abnormal'\n",
            " 'Abnormal' 'Normal' 'Abnormal' 'Normal' 'Abnormal' 'Abnormal' 'Abnormal'\n",
            " 'Normal' 'Abnormal' 'Abnormal' 'Abnormal' 'Abnormal' 'Normal' 'Normal'\n",
            " 'Abnormal' 'Normal' 'Normal' 'Abnormal' 'Abnormal' 'Abnormal' 'Abnormal'\n",
            " 'Normal' 'Abnormal' 'Abnormal' 'Abnormal' 'Normal' 'Abnormal' 'Abnormal'\n",
            " 'Abnormal' 'Normal' 'Normal' 'Abnormal' 'Abnormal' 'Abnormal' 'Abnormal'\n",
            " 'Abnormal' 'Abnormal' 'Abnormal' 'Abnormal' 'Abnormal' 'Abnormal'\n",
            " 'Abnormal' 'Abnormal' 'Abnormal' 'Abnormal' 'Abnormal' 'Normal'\n",
            " 'Abnormal' 'Abnormal' 'Abnormal' 'Abnormal' 'Abnormal' 'Abnormal'\n",
            " 'Abnormal' 'Abnormal' 'Abnormal' 'Abnormal' 'Abnormal' 'Abnormal'\n",
            " 'Abnormal' 'Abnormal' 'Abnormal' 'Abnormal' 'Abnormal' 'Normal' 'Normal'\n",
            " 'Abnormal' 'Normal' 'Normal' 'Normal' 'Normal' 'Normal' 'Normal' 'Normal'\n",
            " 'Abnormal' 'Abnormal' 'Normal' 'Abnormal' 'Abnormal' 'Normal' 'Normal'\n",
            " 'Normal' 'Normal' 'Normal' 'Normal' 'Normal' 'Normal' 'Normal' 'Normal'\n",
            " 'Abnormal' 'Abnormal' 'Normal' 'Normal' 'Normal']\n",
            "With KNN (K=3) accuracy is:  0.8\n"
          ],
          "name": "stdout"
        }
      ]
    },
    {
      "cell_type": "markdown",
      "metadata": {
        "id": "fI5D8PyTu6eR",
        "colab_type": "text"
      },
      "source": [
        "Accuracy of 1st model: 80%\n",
        "\n",
        "Accurcay of 2nd model: 0.8 i.e around  80%\n",
        "\n",
        "---\n",
        "\n"
      ]
    }
  ]
}