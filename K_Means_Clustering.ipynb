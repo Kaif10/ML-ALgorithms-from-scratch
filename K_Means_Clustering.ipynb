{
  "nbformat": 4,
  "nbformat_minor": 0,
  "metadata": {
    "colab": {
      "name": "K-Means Clustering.ipynb",
      "provenance": [],
      "authorship_tag": "ABX9TyPBJtHiIkKmNQikoTVNZpzQ",
      "include_colab_link": true
    },
    "kernelspec": {
      "name": "python3",
      "display_name": "Python 3"
    }
  },
  "cells": [
    {
      "cell_type": "markdown",
      "metadata": {
        "id": "view-in-github",
        "colab_type": "text"
      },
      "source": [
        "<a href=\"https://colab.research.google.com/github/Kaif10/ML-ALgorithms-from-scratch/blob/master/K_Means_Clustering.ipynb\" target=\"_parent\"><img src=\"https://colab.research.google.com/assets/colab-badge.svg\" alt=\"Open In Colab\"/></a>"
      ]
    },
    {
      "cell_type": "markdown",
      "metadata": {
        "id": "NxFg5iF8FRW7",
        "colab_type": "text"
      },
      "source": [
        " KMeans from scratch and comparing it with scikit learn's implementation.\n",
        "Here i have taken a fairly simple and straight forward example.\n"
      ]
    },
    {
      "cell_type": "code",
      "metadata": {
        "id": "DWF5UxgjoN-l",
        "colab_type": "code",
        "colab": {}
      },
      "source": [
        "#import required modules\n",
        "import matplotlib.pyplot  as plt\n",
        "import numpy as np\n",
        "import pandas as pd\n",
        "\n",
        "#take some random data\n",
        "x = [1,2,3,4,5,6,11,13,14,15]\n",
        "y = [1,2,3,4,5,6,11,13,14,15]\n"
      ],
      "execution_count": 0,
      "outputs": []
    },
    {
      "cell_type": "code",
      "metadata": {
        "id": "2rAMXsllzB5z",
        "colab_type": "code",
        "colab": {
          "base_uri": "https://localhost:8080/",
          "height": 282
        },
        "outputId": "cd61ed82-bdfb-41c6-f49e-d3127b8f3fdb"
      },
      "source": [
        "plt.scatter(x,y)"
      ],
      "execution_count": 90,
      "outputs": [
        {
          "output_type": "execute_result",
          "data": {
            "text/plain": [
              "<matplotlib.collections.PathCollection at 0x7f7f0c6f4978>"
            ]
          },
          "metadata": {
            "tags": []
          },
          "execution_count": 90
        },
        {
          "output_type": "display_data",
          "data": {
            "image/png": "[encoded data removed]",
            "text/plain": [
              "<Figure size 432x288 with 1 Axes>"
            ]
          },
          "metadata": {
            "tags": [],
            "needs_background": "light"
          }
        }
      ]
    },
    {
      "cell_type": "markdown",
      "metadata": {
        "id": "ubhg7WT8_5Vw",
        "colab_type": "text"
      },
      "source": [
        "We can clearly see in the above graph that 2 clusters should be formed"
      ]
    },
    {
      "cell_type": "markdown",
      "metadata": {
        "id": "kz84DuYEAmpG",
        "colab_type": "text"
      },
      "source": [
        ".\n"
      ]
    },
    {
      "cell_type": "markdown",
      "metadata": {
        "id": "CD931-pjAmRW",
        "colab_type": "text"
      },
      "source": [
        "Here t is a list of points plotted in the graph"
      ]
    },
    {
      "cell_type": "code",
      "metadata": {
        "id": "znzLdVvxpkBW",
        "colab_type": "code",
        "colab": {
          "base_uri": "https://localhost:8080/",
          "height": 185
        },
        "outputId": "9ef7c208-8a47-4ee4-e72f-fdefa6963f8f"
      },
      "source": [
        "t = list(zip(x,y))\n",
        "t\n"
      ],
      "execution_count": 98,
      "outputs": [
        {
          "output_type": "execute_result",
          "data": {
            "text/plain": [
              "[(1, 1),\n",
              " (2, 2),\n",
              " (3, 3),\n",
              " (4, 4),\n",
              " (5, 5),\n",
              " (6, 6),\n",
              " (11, 11),\n",
              " (13, 13),\n",
              " (14, 14),\n",
              " (15, 15)]"
            ]
          },
          "metadata": {
            "tags": []
          },
          "execution_count": 98
        }
      ]
    },
    {
      "cell_type": "markdown",
      "metadata": {
        "id": "d8-jBkK-ADAy",
        "colab_type": "text"
      },
      "source": [
        "Randomly choose two points on graph as centroid for two clusters."
      ]
    },
    {
      "cell_type": "code",
      "metadata": {
        "id": "dOzTFemPzR1d",
        "colab_type": "code",
        "colab": {
          "base_uri": "https://localhost:8080/",
          "height": 34
        },
        "outputId": "f4976c53-5b94-4726-b166-d6ef66278581"
      },
      "source": [
        "c1 = (2,2)\n",
        "c2 = (4,4)\n"
      ],
      "execution_count": 92,
      "outputs": [
        {
          "output_type": "execute_result",
          "data": {
            "text/plain": [
              "2"
            ]
          },
          "metadata": {
            "tags": []
          },
          "execution_count": 92
        }
      ]
    },
    {
      "cell_type": "markdown",
      "metadata": {
        "id": "1IT7Eb-DAMsS",
        "colab_type": "text"
      },
      "source": [
        "Distance formula"
      ]
    },
    {
      "cell_type": "code",
      "metadata": {
        "id": "7qjbIsKv_CuH",
        "colab_type": "code",
        "colab": {}
      },
      "source": [
        "def dist(x1,y1,x2,y2):\n",
        "    e = (x1-x2)**2 + (y1-y2)**2\n",
        "    return np.sqrt(e)"
      ],
      "execution_count": 0,
      "outputs": []
    },
    {
      "cell_type": "markdown",
      "metadata": {
        "id": "rkY_m433FlLR",
        "colab_type": "text"
      },
      "source": [
        "."
      ]
    },
    {
      "cell_type": "markdown",
      "metadata": {
        "id": "VGbzeVY_A_Nz",
        "colab_type": "text"
      },
      "source": [
        "What we do in the below cell is loop throug all the points in the list t  and check their distance from the two random centroids (c1,c2) we have specified. if dist(i,c1) > dist(i,c2) we specify that the point i belongs to c1 centroid else the poin i belongs to c2 centroid. "
      ]
    },
    {
      "cell_type": "markdown",
      "metadata": {
        "id": "QAJEg0V0Cm59",
        "colab_type": "text"
      },
      "source": [
        "After looping through all the points in list t the points are either grouped in cluster c1 or cluster c2. then the average of all the points in the two respective clusters is taken and two new centroids are formed. this happens until there is no change in centoids and those two centroids are hence the real centroids of the two clusters."
      ]
    },
    {
      "cell_type": "code",
      "metadata": {
        "id": "uSUZQwh2_Cr-",
        "colab_type": "code",
        "colab": {}
      },
      "source": [
        "epochs = 500\n",
        "for j in range(epochs):\n",
        "    li1 = []\n",
        "    li2 = []\n",
        "    count1 = list((0,0))\n",
        "    count2 = list((0,0))\n",
        "    for i in t:\n",
        "        if dist(i[0],i[1],c1[0],c1[1]) <= dist(i[0],i[1],c2[0],c2[1]):\n",
        "            li1.append((i[0],i[1]))\n",
        "        else:\n",
        "            li2.append((i[0],i[1]))\n",
        "    for i in li1:\n",
        "        count1[0] += i[0]\n",
        "        count1[1] += i[1]\n",
        "    for i in li2:\n",
        "        count2[0] += i[0]\n",
        "        count2[1] += i[1]\n",
        "#co1 and c02 are the new centroids that get updated after every loop until they stop changing.\n",
        "    co1 = tuple([count1[0]/len(li1),count1[1]/len(li1)]) \n",
        "\n",
        "    co2 = tuple([count2[0]/len(li2),count2[1]/len(li2)])\n",
        "    if co1 ==c1 and co2 == c2:\n",
        "        break\n",
        "    else:\n",
        "      c1 = co1\n",
        "      c2 = co2"
      ],
      "execution_count": 0,
      "outputs": []
    },
    {
      "cell_type": "code",
      "metadata": {
        "id": "NyU2IgDS_CoL",
        "colab_type": "code",
        "colab": {
          "base_uri": "https://localhost:8080/",
          "height": 50
        },
        "outputId": "4e2327d8-791f-41de-fce8-9a92b88066ac"
      },
      "source": [
        "#cluster centroids\n",
        "print(co1)\n",
        "print(co2)"
      ],
      "execution_count": 106,
      "outputs": [
        {
          "output_type": "stream",
          "text": [
            "(3.5, 3.5)\n",
            "(13.25, 13.25)\n"
          ],
          "name": "stdout"
        }
      ]
    },
    {
      "cell_type": "markdown",
      "metadata": {
        "id": "U7_TZZ9KCYW0",
        "colab_type": "text"
      },
      "source": [
        "Now lets implement the model with the help of scikit learn."
      ]
    },
    {
      "cell_type": "code",
      "metadata": {
        "id": "N0WrAlil_NDG",
        "colab_type": "code",
        "colab": {}
      },
      "source": [
        "import numpy as np\n",
        "from sklearn.cluster import KMeans\n",
        "kmeans = KMeans(n_clusters=2, random_state=0).fit(t)\n",
        "\n",
        "\n"
      ],
      "execution_count": 0,
      "outputs": []
    },
    {
      "cell_type": "code",
      "metadata": {
        "id": "CBJEPtVaByCf",
        "colab_type": "code",
        "colab": {
          "base_uri": "https://localhost:8080/",
          "height": 67
        },
        "outputId": "2153b4f1-623e-4aeb-942e-9124aaf8fd0a"
      },
      "source": [
        "print(kmeans.labels_)\n",
        "\n",
        "kmeans.cluster_centers_\n"
      ],
      "execution_count": 104,
      "outputs": [
        {
          "output_type": "stream",
          "text": [
            "[0 0 0 0 0 0 1 1 1 1]\n"
          ],
          "name": "stdout"
        },
        {
          "output_type": "execute_result",
          "data": {
            "text/plain": [
              "array([[ 3.5 ,  3.5 ],\n",
              "       [13.25, 13.25]])"
            ]
          },
          "metadata": {
            "tags": []
          },
          "execution_count": 104
        }
      ]
    },
    {
      "cell_type": "markdown",
      "metadata": {
        "id": "ams5H1z4B3kL",
        "colab_type": "text"
      },
      "source": [
        "The cluster centres(centroids) of both the models are matching. Our model from scratch was implemented correctly.\n"
      ]
    }
  ]
}