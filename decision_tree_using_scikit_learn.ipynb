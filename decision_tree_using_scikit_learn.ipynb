{
  "nbformat": 4,
  "nbformat_minor": 0,
  "metadata": {
    "colab": {
      "name": "decision_tree_using_scikit_learn.ipynb",
      "provenance": [],
      "authorship_tag": "ABX9TyMNAVPYpq+lzvy14jjh23mI",
      "include_colab_link": true
    },
    "kernelspec": {
      "name": "python3",
      "display_name": "Python 3"
    }
  },
  "cells": [
    {
      "cell_type": "markdown",
      "metadata": {
        "id": "view-in-github",
        "colab_type": "text"
      },
      "source": [
        "<a href=\"https://colab.research.google.com/github/Kaif10/ML-ALgorithms-from-scratch/blob/master/decision_tree_using_scikit_learn.ipynb\" target=\"_parent\"><img src=\"https://colab.research.google.com/assets/colab-badge.svg\" alt=\"Open In Colab\"/></a>"
      ]
    },
    {
      "cell_type": "markdown",
      "metadata": {
        "id": "62g0lFBSum7h",
        "colab_type": "text"
      },
      "source": [
        "Decision Tree using Scikit-learn"
      ]
    },
    {
      "cell_type": "code",
      "metadata": {
        "id": "ZTGSi531qNy7",
        "colab_type": "code",
        "colab": {}
      },
      "source": [
        "import numpy as np\n",
        "import matplotlib.pyplot as plt\n",
        "from sklearn.model_selection import train_test_split\n",
        "from sklearn.datasets import load_iris\n",
        "from sklearn.tree import DecisionTreeClassifier\n",
        "\n"
      ],
      "execution_count": 11,
      "outputs": []
    },
    {
      "cell_type": "code",
      "metadata": {
        "id": "vUDUYmURsDnb",
        "colab_type": "code",
        "colab": {}
      },
      "source": [
        "iris = load_iris()\n",
        "X = iris.data\n",
        "y = iris.target\n",
        "X_train, X_test, y_train, y_test = train_test_split(X, y, random_state=0)\n",
        "\n"
      ],
      "execution_count": 13,
      "outputs": []
    },
    {
      "cell_type": "markdown",
      "metadata": {
        "id": "jkGNmOQZsQlw",
        "colab_type": "text"
      },
      "source": [
        "Here max_leaf_nodes denote the max depth of the tree you want. \n",
        "Increasing the depth to a large number will result in overfitting to training data."
      ]
    },
    {
      "cell_type": "code",
      "metadata": {
        "id": "IairJBS2sK0G",
        "colab_type": "code",
        "colab": {
          "base_uri": "https://localhost:8080/",
          "height": 118
        },
        "outputId": "f40a7776-e3aa-4115-8c05-c1d0dba5dafb"
      },
      "source": [
        "3define the classifier\n",
        "estimator = DecisionTreeClassifier(max_leaf_nodes=5, random_state=0)\n",
        "\n",
        "#train\n",
        "estimator.fit(X_train, y_train)"
      ],
      "execution_count": 14,
      "outputs": [
        {
          "output_type": "execute_result",
          "data": {
            "text/plain": [
              "DecisionTreeClassifier(ccp_alpha=0.0, class_weight=None, criterion='gini',\n",
              "                       max_depth=None, max_features=None, max_leaf_nodes=5,\n",
              "                       min_impurity_decrease=0.0, min_impurity_split=None,\n",
              "                       min_samples_leaf=1, min_samples_split=2,\n",
              "                       min_weight_fraction_leaf=0.0, presort='deprecated',\n",
              "                       random_state=0, splitter='best')"
            ]
          },
          "metadata": {
            "tags": []
          },
          "execution_count": 14
        }
      ]
    },
    {
      "cell_type": "code",
      "metadata": {
        "id": "WmyAvQS9qxnv",
        "colab_type": "code",
        "colab": {
          "base_uri": "https://localhost:8080/",
          "height": 50
        },
        "outputId": "e5b65c7d-2ff6-4722-ad4a-861da90424e3"
      },
      "source": [
        "estimator.predict(X_test)"
      ],
      "execution_count": 15,
      "outputs": [
        {
          "output_type": "execute_result",
          "data": {
            "text/plain": [
              "array([2, 1, 0, 2, 0, 2, 0, 1, 1, 1, 2, 1, 1, 1, 1, 0, 1, 1, 0, 0, 2, 1,\n",
              "       0, 0, 2, 0, 0, 1, 1, 0, 2, 1, 0, 2, 2, 1, 0, 2])"
            ]
          },
          "metadata": {
            "tags": []
          },
          "execution_count": 15
        }
      ]
    },
    {
      "cell_type": "code",
      "metadata": {
        "id": "EySDQ3wQu2bV",
        "colab_type": "code",
        "colab": {
          "base_uri": "https://localhost:8080/",
          "height": 399
        },
        "outputId": "153b35a8-6b6a-48fa-a198-c1d5670e2074"
      },
      "source": [
        "from sklearn import tree\n",
        "tree.plot_tree(estimator) "
      ],
      "execution_count": 16,
      "outputs": [
        {
          "output_type": "execute_result",
          "data": {
            "text/plain": [
              "[Text(133.92000000000002, 195.696, 'X[3] <= 0.8\\ngini = 0.665\\nsamples = 112\\nvalue = [37, 34, 41]'),\n",
              " Text(66.96000000000001, 152.208, 'gini = 0.0\\nsamples = 37\\nvalue = [37, 0, 0]'),\n",
              " Text(200.88000000000002, 152.208, 'X[2] <= 4.95\\ngini = 0.496\\nsamples = 75\\nvalue = [0, 34, 41]'),\n",
              " Text(133.92000000000002, 108.72, 'X[3] <= 1.65\\ngini = 0.153\\nsamples = 36\\nvalue = [0, 33, 3]'),\n",
              " Text(66.96000000000001, 65.232, 'gini = 0.0\\nsamples = 32\\nvalue = [0, 32, 0]'),\n",
              " Text(200.88000000000002, 65.232, 'X[1] <= 3.1\\ngini = 0.375\\nsamples = 4\\nvalue = [0, 1, 3]'),\n",
              " Text(133.92000000000002, 21.744, 'gini = 0.0\\nsamples = 3\\nvalue = [0, 0, 3]'),\n",
              " Text(267.84000000000003, 21.744, 'gini = 0.0\\nsamples = 1\\nvalue = [0, 1, 0]'),\n",
              " Text(267.84000000000003, 108.72, 'gini = 0.05\\nsamples = 39\\nvalue = [0, 1, 38]')]"
            ]
          },
          "metadata": {
            "tags": []
          },
          "execution_count": 16
        },
        {
          "output_type": "display_data",
          "data": {
            "image/png": "[encoded data removed]",
            "text/plain": [
              "<Figure size 432x288 with 1 Axes>"
            ]
          },
          "metadata": {
            "tags": [],
            "needs_background": "light"
          }
        }
      ]
    },
    {
      "cell_type": "code",
      "metadata": {
        "id": "ttOWymEhrJWB",
        "colab_type": "code",
        "colab": {
          "base_uri": "https://localhost:8080/",
          "height": 185
        },
        "outputId": "3f674787-ac33-4d19-bef2-202eef9e6dbe"
      },
      "source": [
        "from sklearn.metrics import classification_report\n",
        "\n",
        "target_names = ['class 0', 'class 1', 'class 2']\n",
        "print(classification_report(y_test, estimator.predict(X_test), target_names=target_names))"
      ],
      "execution_count": 17,
      "outputs": [
        {
          "output_type": "stream",
          "text": [
            "              precision    recall  f1-score   support\n",
            "\n",
            "     class 0       1.00      1.00      1.00        13\n",
            "     class 1       1.00      0.94      0.97        16\n",
            "     class 2       0.90      1.00      0.95         9\n",
            "\n",
            "    accuracy                           0.97        38\n",
            "   macro avg       0.97      0.98      0.97        38\n",
            "weighted avg       0.98      0.97      0.97        38\n",
            "\n"
          ],
          "name": "stdout"
        }
      ]
    },
    {
      "cell_type": "code",
      "metadata": {
        "id": "-u0FVka38dSZ",
        "colab_type": "code",
        "colab": {
          "base_uri": "https://localhost:8080/",
          "height": 50
        },
        "outputId": "320e7057-308d-4054-c554-2ae28b58a983"
      },
      "source": [
        "count_same = 0\n",
        "count_diff = 0\n",
        "for i in range(38):\n",
        "  if  y_test[i] == estimator.predict(X_test)[i]:\n",
        "    count_same +=1\n",
        "  else:\n",
        "    count_diff += 1\n",
        "print(\"The no. of values that are diffferent of predictions and real data: \", count_diff)\n",
        "print(\"The no. of values that are same of predictions and real data: \", count_same)"
      ],
      "execution_count": 20,
      "outputs": [
        {
          "output_type": "stream",
          "text": [
            "The no. of values that are same of predictions and real values:  1\n",
            "The no. of values that are same of predictions and real values:  37\n"
          ],
          "name": "stdout"
        }
      ]
    },
    {
      "cell_type": "markdown",
      "metadata": {
        "id": "b92rUxacucGo",
        "colab_type": "text"
      },
      "source": [
        "Another great way to plot decision trees is by using graphviz library"
      ]
    },
    {
      "cell_type": "code",
      "metadata": {
        "id": "QaL__GW6rdqR",
        "colab_type": "code",
        "colab": {}
      },
      "source": [
        "import graphviz \n",
        "dot_data = tree.export_graphviz(estimator, out_file=None, \n",
        "                      feature_names=iris.feature_names,  \n",
        "                      class_names=iris.target_names,  \n",
        "                      filled=True, rounded=True,  \n",
        "                     special_characters=True)  "
      ],
      "execution_count": 21,
      "outputs": []
    },
    {
      "cell_type": "code",
      "metadata": {
        "id": "zh645_Aqr3g_",
        "colab_type": "code",
        "colab": {
          "base_uri": "https://localhost:8080/",
          "height": 757
        },
        "outputId": "357bfe10-6eb1-45d3-9782-5961a25224b0"
      },
      "source": [
        " graph = graphviz.Source(dot_data)  \n",
        " graph "
      ],
      "execution_count": 22,
      "outputs": [
        {
          "output_type": "execute_result",
          "data": {
            "text/plain": [
              "<graphviz.files.Source at 0x7fe8c3279ba8>"
            ],
            "image/svg+xml": "<?xml version=\"1.0\" encoding=\"UTF-8\" standalone=\"no\"?>\n<!DOCTYPE svg PUBLIC \"-//W3C//DTD SVG 1.1//EN\"\n \"http://www.w3.org/Graphics/SVG/1.1/DTD/svg11.dtd\">\n<!-- Generated by graphviz version 2.40.1 (20161225.0304)\n -->\n<!-- Title: Tree Pages: 1 -->\n<svg width=\"374pt\" height=\"552pt\"\n viewBox=\"0.00 0.00 374.00 552.00\" xmlns=\"http://www.w3.org/2000/svg\" xmlns:xlink=\"http://www.w3.org/1999/xlink\">\n<g id=\"graph0\" class=\"graph\" transform=\"scale(1 1) rotate(0) translate(4 548)\">\n<title>Tree</title>\n<polygon fill=\"#ffffff\" stroke=\"transparent\" points=\"-4,4 -4,-548 370,-548 370,4 -4,4\"/>\n<!-- 0 -->\n<g id=\"node1\" class=\"node\">\n<title>0</title>\n<path fill=\"#f8f4fe\" stroke=\"#000000\" d=\"M207,-544C207,-544 78,-544 78,-544 72,-544 66,-538 66,-532 66,-532 66,-473 66,-473 66,-467 72,-461 78,-461 78,-461 207,-461 207,-461 213,-461 219,-467 219,-473 219,-473 219,-532 219,-532 219,-538 213,-544 207,-544\"/>\n<text text-anchor=\"start\" x=\"74\" y=\"-528.8\" font-family=\"Helvetica,sans-Serif\" font-size=\"14.00\" fill=\"#000000\">petal width (cm) ≤ 0.8</text>\n<text text-anchor=\"start\" x=\"104.5\" y=\"-513.8\" font-family=\"Helvetica,sans-Serif\" font-size=\"14.00\" fill=\"#000000\">gini = 0.665</text>\n<text text-anchor=\"start\" x=\"94.5\" y=\"-498.8\" font-family=\"Helvetica,sans-Serif\" font-size=\"14.00\" fill=\"#000000\">samples = 112</text>\n<text text-anchor=\"start\" x=\"80.5\" y=\"-483.8\" font-family=\"Helvetica,sans-Serif\" font-size=\"14.00\" fill=\"#000000\">value = [37, 34, 41]</text>\n<text text-anchor=\"start\" x=\"91\" y=\"-468.8\" font-family=\"Helvetica,sans-Serif\" font-size=\"14.00\" fill=\"#000000\">class = virginica</text>\n</g>\n<!-- 1 -->\n<g id=\"node2\" class=\"node\">\n<title>1</title>\n<path fill=\"#e58139\" stroke=\"#000000\" d=\"M111,-417.5C111,-417.5 12,-417.5 12,-417.5 6,-417.5 0,-411.5 0,-405.5 0,-405.5 0,-361.5 0,-361.5 0,-355.5 6,-349.5 12,-349.5 12,-349.5 111,-349.5 111,-349.5 117,-349.5 123,-355.5 123,-361.5 123,-361.5 123,-405.5 123,-405.5 123,-411.5 117,-417.5 111,-417.5\"/>\n<text text-anchor=\"start\" x=\"32\" y=\"-402.3\" font-family=\"Helvetica,sans-Serif\" font-size=\"14.00\" fill=\"#000000\">gini = 0.0</text>\n<text text-anchor=\"start\" x=\"17.5\" y=\"-387.3\" font-family=\"Helvetica,sans-Serif\" font-size=\"14.00\" fill=\"#000000\">samples = 37</text>\n<text text-anchor=\"start\" x=\"8\" y=\"-372.3\" font-family=\"Helvetica,sans-Serif\" font-size=\"14.00\" fill=\"#000000\">value = [37, 0, 0]</text>\n<text text-anchor=\"start\" x=\"14.5\" y=\"-357.3\" font-family=\"Helvetica,sans-Serif\" font-size=\"14.00\" fill=\"#000000\">class = setosa</text>\n</g>\n<!-- 0&#45;&gt;1 -->\n<g id=\"edge1\" class=\"edge\">\n<title>0&#45;&gt;1</title>\n<path fill=\"none\" stroke=\"#000000\" d=\"M114.1701,-460.8796C106.5357,-449.6636 98.2652,-437.5131 90.5901,-426.2372\"/>\n<polygon fill=\"#000000\" stroke=\"#000000\" points=\"93.3775,-424.1122 84.8572,-417.8149 87.5908,-428.0511 93.3775,-424.1122\"/>\n<text text-anchor=\"middle\" x=\"80.1907\" y=\"-438.6755\" font-family=\"Helvetica,sans-Serif\" font-size=\"14.00\" fill=\"#000000\">True</text>\n</g>\n<!-- 2 -->\n<g id=\"node3\" class=\"node\">\n<title>2</title>\n<path fill=\"#e9ddfb\" stroke=\"#000000\" d=\"M296,-425C296,-425 153,-425 153,-425 147,-425 141,-419 141,-413 141,-413 141,-354 141,-354 141,-348 147,-342 153,-342 153,-342 296,-342 296,-342 302,-342 308,-348 308,-354 308,-354 308,-413 308,-413 308,-419 302,-425 296,-425\"/>\n<text text-anchor=\"start\" x=\"149\" y=\"-409.8\" font-family=\"Helvetica,sans-Serif\" font-size=\"14.00\" fill=\"#000000\">petal length (cm) ≤ 4.95</text>\n<text text-anchor=\"start\" x=\"186.5\" y=\"-394.8\" font-family=\"Helvetica,sans-Serif\" font-size=\"14.00\" fill=\"#000000\">gini = 0.496</text>\n<text text-anchor=\"start\" x=\"180.5\" y=\"-379.8\" font-family=\"Helvetica,sans-Serif\" font-size=\"14.00\" fill=\"#000000\">samples = 75</text>\n<text text-anchor=\"start\" x=\"167\" y=\"-364.8\" font-family=\"Helvetica,sans-Serif\" font-size=\"14.00\" fill=\"#000000\">value = [0, 34, 41]</text>\n<text text-anchor=\"start\" x=\"173\" y=\"-349.8\" font-family=\"Helvetica,sans-Serif\" font-size=\"14.00\" fill=\"#000000\">class = virginica</text>\n</g>\n<!-- 0&#45;&gt;2 -->\n<g id=\"edge2\" class=\"edge\">\n<title>0&#45;&gt;2</title>\n<path fill=\"none\" stroke=\"#000000\" d=\"M171.1796,-460.8796C177.2615,-452.0534 183.7422,-442.6485 190.0141,-433.5466\"/>\n<polygon fill=\"#000000\" stroke=\"#000000\" points=\"192.9059,-435.5184 195.698,-425.2981 187.1418,-431.5465 192.9059,-435.5184\"/>\n<text text-anchor=\"middle\" x=\"200.2239\" y=\"-446.185\" font-family=\"Helvetica,sans-Serif\" font-size=\"14.00\" fill=\"#000000\">False</text>\n</g>\n<!-- 3 -->\n<g id=\"node4\" class=\"node\">\n<title>3</title>\n<path fill=\"#4be78c\" stroke=\"#000000\" d=\"M213,-306C213,-306 76,-306 76,-306 70,-306 64,-300 64,-294 64,-294 64,-235 64,-235 64,-229 70,-223 76,-223 76,-223 213,-223 213,-223 219,-223 225,-229 225,-235 225,-235 225,-294 225,-294 225,-300 219,-306 213,-306\"/>\n<text text-anchor=\"start\" x=\"72\" y=\"-290.8\" font-family=\"Helvetica,sans-Serif\" font-size=\"14.00\" fill=\"#000000\">petal width (cm) ≤ 1.65</text>\n<text text-anchor=\"start\" x=\"106.5\" y=\"-275.8\" font-family=\"Helvetica,sans-Serif\" font-size=\"14.00\" fill=\"#000000\">gini = 0.153</text>\n<text text-anchor=\"start\" x=\"100.5\" y=\"-260.8\" font-family=\"Helvetica,sans-Serif\" font-size=\"14.00\" fill=\"#000000\">samples = 36</text>\n<text text-anchor=\"start\" x=\"91\" y=\"-245.8\" font-family=\"Helvetica,sans-Serif\" font-size=\"14.00\" fill=\"#000000\">value = [0, 33, 3]</text>\n<text text-anchor=\"start\" x=\"88.5\" y=\"-230.8\" font-family=\"Helvetica,sans-Serif\" font-size=\"14.00\" fill=\"#000000\">class = versicolor</text>\n</g>\n<!-- 2&#45;&gt;3 -->\n<g id=\"edge3\" class=\"edge\">\n<title>2&#45;&gt;3</title>\n<path fill=\"none\" stroke=\"#000000\" d=\"M196.5199,-341.8796C190.6469,-333.1434 184.3927,-323.8404 178.3321,-314.8253\"/>\n<polygon fill=\"#000000\" stroke=\"#000000\" points=\"181.0834,-312.6444 172.5995,-306.2981 175.2741,-316.5498 181.0834,-312.6444\"/>\n</g>\n<!-- 4 -->\n<g id=\"node9\" class=\"node\">\n<title>4</title>\n<path fill=\"#843ee6\" stroke=\"#000000\" d=\"M354,-298.5C354,-298.5 255,-298.5 255,-298.5 249,-298.5 243,-292.5 243,-286.5 243,-286.5 243,-242.5 243,-242.5 243,-236.5 249,-230.5 255,-230.5 255,-230.5 354,-230.5 354,-230.5 360,-230.5 366,-236.5 366,-242.5 366,-242.5 366,-286.5 366,-286.5 366,-292.5 360,-298.5 354,-298.5\"/>\n<text text-anchor=\"start\" x=\"271\" y=\"-283.3\" font-family=\"Helvetica,sans-Serif\" font-size=\"14.00\" fill=\"#000000\">gini = 0.05</text>\n<text text-anchor=\"start\" x=\"260.5\" y=\"-268.3\" font-family=\"Helvetica,sans-Serif\" font-size=\"14.00\" fill=\"#000000\">samples = 39</text>\n<text text-anchor=\"start\" x=\"251\" y=\"-253.3\" font-family=\"Helvetica,sans-Serif\" font-size=\"14.00\" fill=\"#000000\">value = [0, 1, 38]</text>\n<text text-anchor=\"start\" x=\"253\" y=\"-238.3\" font-family=\"Helvetica,sans-Serif\" font-size=\"14.00\" fill=\"#000000\">class = virginica</text>\n</g>\n<!-- 2&#45;&gt;4 -->\n<g id=\"edge8\" class=\"edge\">\n<title>2&#45;&gt;4</title>\n<path fill=\"none\" stroke=\"#000000\" d=\"M252.4801,-341.8796C260.0203,-330.6636 268.1887,-318.5131 275.7691,-307.2372\"/>\n<polygon fill=\"#000000\" stroke=\"#000000\" points=\"278.7566,-309.0667 281.4311,-298.8149 272.9473,-305.1612 278.7566,-309.0667\"/>\n</g>\n<!-- 5 -->\n<g id=\"node5\" class=\"node\">\n<title>5</title>\n<path fill=\"#39e581\" stroke=\"#000000\" d=\"M116.5,-179.5C116.5,-179.5 12.5,-179.5 12.5,-179.5 6.5,-179.5 .5,-173.5 .5,-167.5 .5,-167.5 .5,-123.5 .5,-123.5 .5,-117.5 6.5,-111.5 12.5,-111.5 12.5,-111.5 116.5,-111.5 116.5,-111.5 122.5,-111.5 128.5,-117.5 128.5,-123.5 128.5,-123.5 128.5,-167.5 128.5,-167.5 128.5,-173.5 122.5,-179.5 116.5,-179.5\"/>\n<text text-anchor=\"start\" x=\"35\" y=\"-164.3\" font-family=\"Helvetica,sans-Serif\" font-size=\"14.00\" fill=\"#000000\">gini = 0.0</text>\n<text text-anchor=\"start\" x=\"20.5\" y=\"-149.3\" font-family=\"Helvetica,sans-Serif\" font-size=\"14.00\" fill=\"#000000\">samples = 32</text>\n<text text-anchor=\"start\" x=\"11\" y=\"-134.3\" font-family=\"Helvetica,sans-Serif\" font-size=\"14.00\" fill=\"#000000\">value = [0, 32, 0]</text>\n<text text-anchor=\"start\" x=\"8.5\" y=\"-119.3\" font-family=\"Helvetica,sans-Serif\" font-size=\"14.00\" fill=\"#000000\">class = versicolor</text>\n</g>\n<!-- 3&#45;&gt;5 -->\n<g id=\"edge4\" class=\"edge\">\n<title>3&#45;&gt;5</title>\n<path fill=\"none\" stroke=\"#000000\" d=\"M116.5199,-222.8796C108.9797,-211.6636 100.8113,-199.5131 93.2309,-188.2372\"/>\n<polygon fill=\"#000000\" stroke=\"#000000\" points=\"96.0527,-186.1612 87.5689,-179.8149 90.2434,-190.0667 96.0527,-186.1612\"/>\n</g>\n<!-- 6 -->\n<g id=\"node6\" class=\"node\">\n<title>6</title>\n<path fill=\"#ab7bee\" stroke=\"#000000\" d=\"M292,-187C292,-187 159,-187 159,-187 153,-187 147,-181 147,-175 147,-175 147,-116 147,-116 147,-110 153,-104 159,-104 159,-104 292,-104 292,-104 298,-104 304,-110 304,-116 304,-116 304,-175 304,-175 304,-181 298,-187 292,-187\"/>\n<text text-anchor=\"start\" x=\"155\" y=\"-171.8\" font-family=\"Helvetica,sans-Serif\" font-size=\"14.00\" fill=\"#000000\">sepal width (cm) ≤ 3.1</text>\n<text text-anchor=\"start\" x=\"187.5\" y=\"-156.8\" font-family=\"Helvetica,sans-Serif\" font-size=\"14.00\" fill=\"#000000\">gini = 0.375</text>\n<text text-anchor=\"start\" x=\"186\" y=\"-141.8\" font-family=\"Helvetica,sans-Serif\" font-size=\"14.00\" fill=\"#000000\">samples = 4</text>\n<text text-anchor=\"start\" x=\"176\" y=\"-126.8\" font-family=\"Helvetica,sans-Serif\" font-size=\"14.00\" fill=\"#000000\">value = [0, 1, 3]</text>\n<text text-anchor=\"start\" x=\"174\" y=\"-111.8\" font-family=\"Helvetica,sans-Serif\" font-size=\"14.00\" fill=\"#000000\">class = virginica</text>\n</g>\n<!-- 3&#45;&gt;6 -->\n<g id=\"edge5\" class=\"edge\">\n<title>3&#45;&gt;6</title>\n<path fill=\"none\" stroke=\"#000000\" d=\"M172.8299,-222.8796C178.7763,-214.1434 185.1086,-204.8404 191.245,-195.8253\"/>\n<polygon fill=\"#000000\" stroke=\"#000000\" points=\"194.3156,-197.5342 197.0492,-187.2981 188.5289,-193.5953 194.3156,-197.5342\"/>\n</g>\n<!-- 7 -->\n<g id=\"node7\" class=\"node\">\n<title>7</title>\n<path fill=\"#8139e5\" stroke=\"#000000\" d=\"M202,-68C202,-68 107,-68 107,-68 101,-68 95,-62 95,-56 95,-56 95,-12 95,-12 95,-6 101,0 107,0 107,0 202,0 202,0 208,0 214,-6 214,-12 214,-12 214,-56 214,-56 214,-62 208,-68 202,-68\"/>\n<text text-anchor=\"start\" x=\"125\" y=\"-52.8\" font-family=\"Helvetica,sans-Serif\" font-size=\"14.00\" fill=\"#000000\">gini = 0.0</text>\n<text text-anchor=\"start\" x=\"115\" y=\"-37.8\" font-family=\"Helvetica,sans-Serif\" font-size=\"14.00\" fill=\"#000000\">samples = 3</text>\n<text text-anchor=\"start\" x=\"105\" y=\"-22.8\" font-family=\"Helvetica,sans-Serif\" font-size=\"14.00\" fill=\"#000000\">value = [0, 0, 3]</text>\n<text text-anchor=\"start\" x=\"103\" y=\"-7.8\" font-family=\"Helvetica,sans-Serif\" font-size=\"14.00\" fill=\"#000000\">class = virginica</text>\n</g>\n<!-- 6&#45;&gt;7 -->\n<g id=\"edge6\" class=\"edge\">\n<title>6&#45;&gt;7</title>\n<path fill=\"none\" stroke=\"#000000\" d=\"M199.0622,-103.9815C193.444,-95.1585 187.5012,-85.8258 181.8497,-76.9506\"/>\n<polygon fill=\"#000000\" stroke=\"#000000\" points=\"184.6416,-74.8188 176.3181,-68.2637 178.7371,-78.5787 184.6416,-74.8188\"/>\n</g>\n<!-- 8 -->\n<g id=\"node8\" class=\"node\">\n<title>8</title>\n<path fill=\"#39e581\" stroke=\"#000000\" d=\"M348.5,-68C348.5,-68 244.5,-68 244.5,-68 238.5,-68 232.5,-62 232.5,-56 232.5,-56 232.5,-12 232.5,-12 232.5,-6 238.5,0 244.5,0 244.5,0 348.5,0 348.5,0 354.5,0 360.5,-6 360.5,-12 360.5,-12 360.5,-56 360.5,-56 360.5,-62 354.5,-68 348.5,-68\"/>\n<text text-anchor=\"start\" x=\"267\" y=\"-52.8\" font-family=\"Helvetica,sans-Serif\" font-size=\"14.00\" fill=\"#000000\">gini = 0.0</text>\n<text text-anchor=\"start\" x=\"257\" y=\"-37.8\" font-family=\"Helvetica,sans-Serif\" font-size=\"14.00\" fill=\"#000000\">samples = 1</text>\n<text text-anchor=\"start\" x=\"247\" y=\"-22.8\" font-family=\"Helvetica,sans-Serif\" font-size=\"14.00\" fill=\"#000000\">value = [0, 1, 0]</text>\n<text text-anchor=\"start\" x=\"240.5\" y=\"-7.8\" font-family=\"Helvetica,sans-Serif\" font-size=\"14.00\" fill=\"#000000\">class = versicolor</text>\n</g>\n<!-- 6&#45;&gt;8 -->\n<g id=\"edge7\" class=\"edge\">\n<title>6&#45;&gt;8</title>\n<path fill=\"none\" stroke=\"#000000\" d=\"M251.9378,-103.9815C257.556,-95.1585 263.4988,-85.8258 269.1503,-76.9506\"/>\n<polygon fill=\"#000000\" stroke=\"#000000\" points=\"272.2629,-78.5787 274.6819,-68.2637 266.3584,-74.8188 272.2629,-78.5787\"/>\n</g>\n</g>\n</svg>\n"
          },
          "metadata": {
            "tags": []
          },
          "execution_count": 22
        }
      ]
    }
  ]
}